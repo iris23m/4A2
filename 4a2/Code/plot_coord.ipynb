{
 "cells": [
  {
   "cell_type": "code",
   "execution_count": 1,
   "id": "ecaac0c3",
   "metadata": {},
   "outputs": [
    {
     "ename": "ModuleNotFoundError",
     "evalue": "No module named 'numpy'",
     "output_type": "error",
     "traceback": [
      "\u001b[31m---------------------------------------------------------------------------\u001b[39m",
      "\u001b[31mModuleNotFoundError\u001b[39m                       Traceback (most recent call last)",
      "\u001b[36mCell\u001b[39m\u001b[36m \u001b[39m\u001b[32mIn[1]\u001b[39m\u001b[32m, line 10\u001b[39m\n\u001b[32m      1\u001b[39m \u001b[38;5;66;03m#\u001b[39;00m\n\u001b[32m      2\u001b[39m \u001b[38;5;66;03m#   plot_coord\u001b[39;00m\n\u001b[32m      3\u001b[39m \u001b[38;5;66;03m#                               \u001b[39;00m\n\u001b[32m   (...)\u001b[39m\u001b[32m      8\u001b[39m \n\u001b[32m      9\u001b[39m \u001b[38;5;66;03m# Import modules and functions\u001b[39;00m\n\u001b[32m---> \u001b[39m\u001b[32m10\u001b[39m \u001b[38;5;28;01mfrom\u001b[39;00m\u001b[38;5;250m \u001b[39m\u001b[34;01mroutines\u001b[39;00m\u001b[38;5;250m \u001b[39m\u001b[38;5;28;01mimport\u001b[39;00m *\n\u001b[32m     12\u001b[39m \u001b[38;5;28;01mdef\u001b[39;00m\u001b[38;5;250m \u001b[39m\u001b[34mmain\u001b[39m():\n\u001b[32m     13\u001b[39m \n\u001b[32m     14\u001b[39m     \u001b[38;5;66;03m# Construct full filename to read the grid data\u001b[39;00m\n\u001b[32m     15\u001b[39m     filename = \u001b[33m'\u001b[39m\u001b[33mout_coord_\u001b[39m\u001b[33m'\u001b[39m + sys.argv[-\u001b[32m1\u001b[39m] + \u001b[33m'\u001b[39m\u001b[33m.bin\u001b[39m\u001b[33m'\u001b[39m\n",
      "\u001b[36mFile \u001b[39m\u001b[32m~/4A2/4a2/Code/routines.py:9\u001b[39m\n\u001b[32m      1\u001b[39m \u001b[38;5;66;03m#\u001b[39;00m\n\u001b[32m      2\u001b[39m \u001b[38;5;66;03m#   routines                              \u001b[39;00m\n\u001b[32m      3\u001b[39m \u001b[38;5;66;03m#                               \u001b[39;00m\n\u001b[32m   (...)\u001b[39m\u001b[32m      6\u001b[39m \n\u001b[32m      7\u001b[39m \u001b[38;5;66;03m# Import modules and functions\u001b[39;00m\n\u001b[32m      8\u001b[39m \u001b[38;5;28;01mimport\u001b[39;00m\u001b[38;5;250m \u001b[39m\u001b[34;01msys\u001b[39;00m\n\u001b[32m----> \u001b[39m\u001b[32m9\u001b[39m \u001b[38;5;28;01mimport\u001b[39;00m\u001b[38;5;250m \u001b[39m\u001b[34;01mnumpy\u001b[39;00m\u001b[38;5;250m \u001b[39m\u001b[38;5;28;01mas\u001b[39;00m\u001b[38;5;250m \u001b[39m\u001b[34;01mnp\u001b[39;00m\n\u001b[32m     10\u001b[39m \u001b[38;5;28;01mimport\u001b[39;00m\u001b[38;5;250m \u001b[39m\u001b[34;01mmatplotlib\u001b[39;00m\u001b[34;01m.\u001b[39;00m\u001b[34;01mpyplot\u001b[39;00m\u001b[38;5;250m \u001b[39m\u001b[38;5;28;01mas\u001b[39;00m\u001b[38;5;250m \u001b[39m\u001b[34;01mplt\u001b[39;00m \n\u001b[32m     11\u001b[39m \u001b[38;5;28;01mimport\u001b[39;00m\u001b[38;5;250m \u001b[39m\u001b[34;01mscipy\u001b[39;00m\u001b[34;01m.\u001b[39;00m\u001b[34;01minterpolate\u001b[39;00m\u001b[38;5;250m \u001b[39m\u001b[38;5;28;01mas\u001b[39;00m\u001b[38;5;250m \u001b[39m\u001b[34;01minterp\u001b[39;00m\n",
      "\u001b[31mModuleNotFoundError\u001b[39m: No module named 'numpy'"
     ]
    }
   ],
   "source": [
    "#\n",
    "#   plot_coord\n",
    "#                               \n",
    "#   Script to plot a mesh created using the 4A2 solver\n",
    "#\n",
    "#   Change to the directory you want to execute the script within and execute \n",
    "#   with \"python path_to_script/plot_coord.py casename\"\n",
    "\n",
    "# Import modules and functions\n",
    "from routines import *\n",
    "\n",
    "def main():\n",
    "\n",
    "    # Construct full filename to read the grid data\n",
    "    filename = 'out_coord_' + sys.argv[-1] + '.bin'\n",
    "\n",
    "    # Read the case from file\n",
    "    g = read_case(filename)\n",
    "\n",
    "    # Open figure window and set the axes to be equal\n",
    "    plt.figure(figsize=[9.6,7.2]); ax = plt.axes(); cols = gen_cols();\n",
    "    ax.set_xlabel('x / m'); ax.set_ylabel('y / m');\n",
    "    ax.set_aspect('equal',adjustable='box'); ax.tick_params(direction='in')\n",
    "\n",
    "    # Plot the mesh coordinates to show the cells\n",
    "    ax.plot(g['x'],g['y'],color=cols[0,:],linewidth=0.5)\n",
    "    ax.plot(np.transpose(g['x']),np.transpose(g['y']),color=cols[0,:],\n",
    "        linewidth=0.5)\n",
    "\n",
    "    # Draw the boundary of the block\n",
    "    plot_bound(ax,g)\n",
    "\n",
    "    # Show all the plots\n",
    "    plt.show()\n",
    "\n",
    "    \n",
    "main()\n"
   ]
  }
 ],
 "metadata": {
  "kernelspec": {
   "display_name": "base",
   "language": "python",
   "name": "python3"
  },
  "language_info": {
   "codemirror_mode": {
    "name": "ipython",
    "version": 3
   },
   "file_extension": ".py",
   "mimetype": "text/x-python",
   "name": "python",
   "nbconvert_exporter": "python",
   "pygments_lexer": "ipython3",
   "version": "3.13.5"
  }
 },
 "nbformat": 4,
 "nbformat_minor": 5
}
